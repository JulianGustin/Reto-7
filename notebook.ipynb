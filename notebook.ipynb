{
 "cells": [
  {
   "cell_type": "markdown",
   "metadata": {},
   "source": [
    "# Reto 7 programación de computadores\n",
    "\n",
    "***\n",
    "\n",
    "### 1. Imprimir un listado con los números del 1 al 100 cada uno con su respectivo cuadrado.\n"
   ]
  },
  {
   "cell_type": "code",
   "execution_count": null,
   "metadata": {},
   "outputs": [],
   "source": [
    "# imprimir un listado con los números del 1 al 100 y su respectivo cuadrado \n",
    "\n",
    "n : int = 0 #Inicializa a n en 0 \n",
    "\n",
    "# Inciar el codigo \n",
    "\n",
    "if __name__ == \"__main__\": \n",
    "    while n < 100: #Mientras sea menor a 100 \n",
    "        n += 1 #Suma 1 en cada iteracion \n",
    "        print(n) \n",
    "        m = n**2 # Elevar n al cuadrado\n",
    "        print(\"Cuadrado de\", str(n), \":\", str(m))\n"
   ]
  },
  {
   "cell_type": "markdown",
   "metadata": {},
   "source": [
    "***\n",
    "### 2. Imprimir un listado con los números impares desde 1 hasta 999 y seguidamente otro listado con los números pares desde 2 hasta 1000."
   ]
  },
  {
   "cell_type": "code",
   "execution_count": null,
   "metadata": {},
   "outputs": [],
   "source": [
    "#Imprimir un listado de números impares desde 1 hasta 999, y después un listado con los números pares desde 2 hasta 1000\n",
    "\n",
    "i : int = 1 \n",
    "p : int = 2\n",
    "\n",
    "# Inciar el codigo \n",
    "\n",
    "if __name__ == \"__main__\": \n",
    "    print (\"Lista de numeros impares desde 1 hasta 999\")\n",
    "    while i <= 999: #Mientras i sea menor o igual a 999\n",
    "        print (str(i))\n",
    "        i += 2 #Añadir 2 en cada iteracion\n",
    "    print (\"Lista de numeros pares desde 2 hasta 1000\")\n",
    "    while p <= 1000:\n",
    "        print (str(p))\n",
    "        p += 2 "
   ]
  },
  {
   "cell_type": "markdown",
   "metadata": {},
   "source": [
    "***\n",
    "### 3. Imprimir los números pares en forma descendente hasta 2 que son menores o iguales a un número natural n ≥ 2 dado"
   ]
  },
  {
   "cell_type": "code",
   "execution_count": null,
   "metadata": {},
   "outputs": [],
   "source": [
    "# Imprimir los numeros pares en forma descendente hasta 2 que son menores o iguales a un numero natural n >= 2 dado \n",
    "\n",
    "# Inciar el codigo \n",
    "\n",
    "if __name__ == \"__main__\": \n",
    "    n = int(input(\"Ingrese un número natural mayor a 2: \")) #Solicitar input del usuario\n",
    "    while n >= 2: \n",
    "        prueba = n%2 # Verificar si el input es par o inpar\n",
    "        if prueba == 0: #Codigo normal\n",
    "            print(str(n))\n",
    "            n -= 2\n",
    "        else:\n",
    "            print(n-1) # Restar 1 a n para que sea par\n",
    "            n -= 2"
   ]
  },
  {
   "cell_type": "markdown",
   "metadata": {},
   "source": [
    "***\n",
    "### 4. En 2022 el país A tendrá una población de 25 millones de habitantes y el país B de 18.9 millones. Las tasas de crecimiento anual de la población serán de 2% y 3% respectivamente. Desarrollar un algoritmo para informar en que año la población del país B superará a la de A."
   ]
  },
  {
   "cell_type": "code",
   "execution_count": null,
   "metadata": {},
   "outputs": [],
   "source": [
    "# En 2022 el país A tendrá una población de 25 millones de habitantes \n",
    "# y el país B de 18.9 millones. Las tasas de crecimiento anual de la población serán de 2% y 3% respectivamente. \n",
    "# Desarrollar un algoritmo para informar en que año la población del país B superará a la de A.\n",
    "\n",
    "year : int = 2022 \n",
    "A : int = 25000000\n",
    "B : int = 18900000\n",
    "\n",
    "# Iniciar programa \n",
    "\n",
    "if __name__ == \"__main__\": \n",
    "    while A > B: \n",
    "        # Sumar a A y a B su porcentaje de crecimiento \n",
    "        A += A*0.02 \n",
    "        B += B*0.03\n",
    "        year += 1 #Sumar 1 al año \n",
    "    print (\"El pais B superara en poblacion al pais A en el año\", str(year), \"Con poblaciones de\", int(B), \"y\", int(A), \"respectivamente\" )"
   ]
  },
  {
   "cell_type": "markdown",
   "metadata": {},
   "source": [
    "***\n",
    "### 5. Imprimir el factorial de un número natural n dado\n"
   ]
  },
  {
   "cell_type": "code",
   "execution_count": null,
   "metadata": {},
   "outputs": [],
   "source": [
    "#Imprimir el factorial de un numero n dado\n",
    "\n",
    "#Iniciar el codigo \n",
    "\n",
    "if __name__ == \"__main__\": \n",
    "    n = int(input(\"Ingrese un número natural menor a 1558: \")) #Debe ser menor a 1558, pues hay un limite de caracteres en el resultado obtenido\n",
    "    factor = n - 1  \n",
    "    m = n #Separar m y n para poder imprimir el numero inicial al final\n",
    "    while factor > 0: \n",
    "        m *= factor \n",
    "        factor -= 1 #Restar 1 al factor para multiplicarlo a m\n",
    "    print(\"El factorial de\", str(n), \"es\", str(m))\n",
    "    "
   ]
  },
  {
   "cell_type": "markdown",
   "metadata": {},
   "source": [
    "***\n",
    "### 6. Implementar un algoritmo que permita adivinar un número dado de 1 a 100, preguntando en cada caso si el número es mayor, menor o igual.\n"
   ]
  },
  {
   "cell_type": "code",
   "execution_count": null,
   "metadata": {},
   "outputs": [],
   "source": [
    "# Implementar un algoritmo que permita adivinar un número dado de 1 a 100, preguntando en cada caso si el número es mayor, menor o igual.\n",
    "# Definir variables\n",
    "minimo : int = 1\n",
    "maximo : int = 100 \n",
    "respuesta : str = \"\"\n",
    "\n",
    "#Iniciar codigo \n",
    "\n",
    "if __name__ == \"__main__\": \n",
    "\n",
    "    while respuesta != \"si\": # Hasta que la respuesta no sea si\n",
    "        adiv = (minimo + maximo) // 2 #Punto medio entre el maximo y el minimo\n",
    "        respuesta = input(f\"Tu numero es {adiv}? (si, mayor, menor):\")\n",
    "        if respuesta == \"mayor\": \n",
    "            minimo = adiv + 1 #Actualizar el valor minimo\n",
    "        elif respuesta == \"menor\": \n",
    "            maximo = adiv - 1 #Actualizar el valor maximo\n",
    "        else: \n",
    "            print(\"Adivine tu numero, y es\", str(adiv))"
   ]
  },
  {
   "cell_type": "markdown",
   "metadata": {},
   "source": [
    "***\n",
    "### 7. Implementar un programa que ingrese un número de 2 a 50 y muestre sus divisores.\n"
   ]
  },
  {
   "cell_type": "code",
   "execution_count": null,
   "metadata": {},
   "outputs": [],
   "source": [
    "#Implementar un programa que ingrese un número de 2 a 50 y muestre sus divisores.\n",
    "\n",
    "divisor : int = 1 \n",
    "\n",
    "#Iniciar codigo \n",
    "\n",
    "if __name__ == \"__main__\": \n",
    "    numero = int(input(\"Ingrese un numero entre 2 y 50: \"))\n",
    "    if numero >= 2 and numero <=50: #Si el numero esta entre 2 y 50\n",
    "    \n",
    "        print (f\"Los divisores de {numero} son: \") \n",
    "\n",
    "        #Evaluar los divisores de un numero de 1 a 1 con modulo\n",
    "        while divisor <= numero: \n",
    "            s = numero % divisor \n",
    "            if s == 0: \n",
    "                print(divisor)\n",
    "            divisor +=1\n",
    "\n",
    "    else:\n",
    "        print (\"Su numero no esta entre 2 y 50\")\n",
    "        \n",
    "\n",
    "        "
   ]
  },
  {
   "cell_type": "markdown",
   "metadata": {},
   "source": [
    "***\n",
    "### 8. Implementar el algoritmo que muestre los números primos del 1 al 100. Nota: use funciones\n"
   ]
  },
  {
   "cell_type": "code",
   "execution_count": null,
   "metadata": {},
   "outputs": [],
   "source": [
    "# Funcion que define si un numero es primo o no\n",
    "def primo(n): \n",
    "    if n <= 1: # Los primos no pueden ser menores o iguales a 1\n",
    "        return False\n",
    "    elif n <= 3: # El 2 y el 3 son primos\n",
    "        return True\n",
    "    elif n % 2 == 0 or n % 3 == 0: # Si un numero puede ser divisible entre 2 y 3 no es primo\n",
    "        return False\n",
    "    x = 5\n",
    "    while x**2 <= n: # Si un numero tiene un divisor mayor a su raiz cuadrada, también tendra divisores menores a su raiz\n",
    "        if n % x == 0 or n % (x+2) == 0: # Si el numero es divisible entre x o x+2, no es primo\n",
    "            return False\n",
    "        x += 6 # Se incrementa x en 6 para seguir el patron 6k ± 1 \n",
    "    return True \n",
    "\n",
    "n : int = 1\n",
    "\n",
    "#Iniciar codigo \n",
    "\n",
    "if __name__ == \"__main__\": \n",
    "    while n < 100:\n",
    "        if primo(n):\n",
    "            print(n)\n",
    "        n +=1\n"
   ]
  }
 ],
 "metadata": {
  "kernelspec": {
   "display_name": "Python 3",
   "language": "python",
   "name": "python3"
  },
  "language_info": {
   "codemirror_mode": {
    "name": "ipython",
    "version": 3
   },
   "file_extension": ".py",
   "mimetype": "text/x-python",
   "name": "python",
   "nbconvert_exporter": "python",
   "pygments_lexer": "ipython3",
   "version": "3.12.2"
  }
 },
 "nbformat": 4,
 "nbformat_minor": 2
}
